my_dna = "ACTGATCGATTACGTATAGTATTTGCTATCATACATATATATCGATGCGTTCAT"
length = len(my_dna)
a_count = my_dna.count('A')
t_count = my_dna.count('T')

print("total DNA length: " + str(length))
print("A count: " + str(a_count))
print("T count: " + str(t_count))


