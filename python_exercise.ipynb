my_dna = "ACTGATCGATTACGTATAGTATTTGCTATCATACATATATATCGATGCGTTCAT"
length = len(my_dna)
a_count = my_dna.count('A')
t_count = my_dna.count('T')

print("total DNA length: " + str(length))
print("A count: " + str(a_count))
print("T count: " + str(t_count))

AT_content = (a_count + t_count)/length
AT_content_percentage = AT_content*100

print("The percentage of the AT content is :" + AT_content)
